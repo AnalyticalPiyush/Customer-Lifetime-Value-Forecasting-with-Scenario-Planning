{
 "cells": [
  {
   "cell_type": "code",
   "execution_count": null,
   "id": "cb05ff4e",
   "metadata": {},
   "outputs": [],
   "source": [
    "#Importing Libraries\n",
    "import pandas as pd \n",
    "import numpy as np"
   ]
  },
  {
   "cell_type": "code",
   "execution_count": null,
   "id": "ade57eae",
   "metadata": {},
   "outputs": [],
   "source": [
    "#Datafile Import\n",
    "df = pd.read_csv(\"online_retail_clean.csv\")"
   ]
  },
  {
   "cell_type": "code",
   "execution_count": 68,
   "id": "ad035eb4",
   "metadata": {},
   "outputs": [
    {
     "data": {
      "text/html": [
       "<div>\n",
       "<style scoped>\n",
       "    .dataframe tbody tr th:only-of-type {\n",
       "        vertical-align: middle;\n",
       "    }\n",
       "\n",
       "    .dataframe tbody tr th {\n",
       "        vertical-align: top;\n",
       "    }\n",
       "\n",
       "    .dataframe thead th {\n",
       "        text-align: right;\n",
       "    }\n",
       "</style>\n",
       "<table border=\"1\" class=\"dataframe\">\n",
       "  <thead>\n",
       "    <tr style=\"text-align: right;\">\n",
       "      <th></th>\n",
       "      <th>Invoice</th>\n",
       "      <th>StockCode</th>\n",
       "      <th>Description</th>\n",
       "      <th>Quantity</th>\n",
       "      <th>InvoiceDate</th>\n",
       "      <th>Price</th>\n",
       "      <th>Customer ID</th>\n",
       "      <th>Country</th>\n",
       "      <th>Revenue</th>\n",
       "    </tr>\n",
       "  </thead>\n",
       "  <tbody>\n",
       "    <tr>\n",
       "      <th>0</th>\n",
       "      <td>489434</td>\n",
       "      <td>85048</td>\n",
       "      <td>15CM CHRISTMAS GLASS BALL 20 LIGHTS</td>\n",
       "      <td>12</td>\n",
       "      <td>2021-12-01 07:45:00</td>\n",
       "      <td>6.95</td>\n",
       "      <td>13085.0</td>\n",
       "      <td>United Kingdom</td>\n",
       "      <td>83.4</td>\n",
       "    </tr>\n",
       "    <tr>\n",
       "      <th>1</th>\n",
       "      <td>489434</td>\n",
       "      <td>79323P</td>\n",
       "      <td>PINK CHERRY LIGHTS</td>\n",
       "      <td>12</td>\n",
       "      <td>2021-12-01 07:45:00</td>\n",
       "      <td>6.75</td>\n",
       "      <td>13085.0</td>\n",
       "      <td>United Kingdom</td>\n",
       "      <td>81.0</td>\n",
       "    </tr>\n",
       "    <tr>\n",
       "      <th>2</th>\n",
       "      <td>489434</td>\n",
       "      <td>79323W</td>\n",
       "      <td>WHITE CHERRY LIGHTS</td>\n",
       "      <td>12</td>\n",
       "      <td>2021-12-01 07:45:00</td>\n",
       "      <td>6.75</td>\n",
       "      <td>13085.0</td>\n",
       "      <td>United Kingdom</td>\n",
       "      <td>81.0</td>\n",
       "    </tr>\n",
       "    <tr>\n",
       "      <th>3</th>\n",
       "      <td>489434</td>\n",
       "      <td>22041</td>\n",
       "      <td>RECORD FRAME 7\" SINGLE SIZE</td>\n",
       "      <td>48</td>\n",
       "      <td>2021-12-01 07:45:00</td>\n",
       "      <td>2.10</td>\n",
       "      <td>13085.0</td>\n",
       "      <td>United Kingdom</td>\n",
       "      <td>100.8</td>\n",
       "    </tr>\n",
       "    <tr>\n",
       "      <th>4</th>\n",
       "      <td>489434</td>\n",
       "      <td>21232</td>\n",
       "      <td>STRAWBERRY CERAMIC TRINKET BOX</td>\n",
       "      <td>24</td>\n",
       "      <td>2021-12-01 07:45:00</td>\n",
       "      <td>1.25</td>\n",
       "      <td>13085.0</td>\n",
       "      <td>United Kingdom</td>\n",
       "      <td>30.0</td>\n",
       "    </tr>\n",
       "  </tbody>\n",
       "</table>\n",
       "</div>"
      ],
      "text/plain": [
       "  Invoice StockCode                          Description  Quantity  \\\n",
       "0  489434     85048  15CM CHRISTMAS GLASS BALL 20 LIGHTS        12   \n",
       "1  489434    79323P                   PINK CHERRY LIGHTS        12   \n",
       "2  489434    79323W                  WHITE CHERRY LIGHTS        12   \n",
       "3  489434     22041         RECORD FRAME 7\" SINGLE SIZE         48   \n",
       "4  489434     21232       STRAWBERRY CERAMIC TRINKET BOX        24   \n",
       "\n",
       "           InvoiceDate  Price  Customer ID         Country  Revenue  \n",
       "0  2021-12-01 07:45:00   6.95      13085.0  United Kingdom     83.4  \n",
       "1  2021-12-01 07:45:00   6.75      13085.0  United Kingdom     81.0  \n",
       "2  2021-12-01 07:45:00   6.75      13085.0  United Kingdom     81.0  \n",
       "3  2021-12-01 07:45:00   2.10      13085.0  United Kingdom    100.8  \n",
       "4  2021-12-01 07:45:00   1.25      13085.0  United Kingdom     30.0  "
      ]
     },
     "execution_count": 68,
     "metadata": {},
     "output_type": "execute_result"
    }
   ],
   "source": [
    "df.head()"
   ]
  },
  {
   "cell_type": "markdown",
   "id": "a19a32a6",
   "metadata": {},
   "source": [
    "# Cleaning & Preparation"
   ]
  },
  {
   "cell_type": "code",
   "execution_count": 69,
   "id": "6fe8ab04",
   "metadata": {},
   "outputs": [
    {
     "data": {
      "text/plain": [
       "(824364, 9)"
      ]
     },
     "execution_count": 69,
     "metadata": {},
     "output_type": "execute_result"
    }
   ],
   "source": [
    "df.shape"
   ]
  },
  {
   "cell_type": "code",
   "execution_count": 70,
   "id": "80abfb18",
   "metadata": {},
   "outputs": [
    {
     "data": {
      "text/plain": [
       "Invoice        0\n",
       "StockCode      0\n",
       "Description    0\n",
       "Quantity       0\n",
       "InvoiceDate    0\n",
       "Price          0\n",
       "Customer ID    0\n",
       "Country        0\n",
       "Revenue        0\n",
       "dtype: int64"
      ]
     },
     "execution_count": 70,
     "metadata": {},
     "output_type": "execute_result"
    }
   ],
   "source": [
    "df.isnull().sum()"
   ]
  },
  {
   "cell_type": "code",
   "execution_count": 48,
   "id": "0c1d6f84",
   "metadata": {},
   "outputs": [
    {
     "data": {
      "text/plain": [
       "np.int64(824364)"
      ]
     },
     "execution_count": 48,
     "metadata": {},
     "output_type": "execute_result"
    }
   ],
   "source": [
    "df['Customer ID'].count()"
   ]
  },
  {
   "cell_type": "code",
   "execution_count": 54,
   "id": "733cd340",
   "metadata": {},
   "outputs": [],
   "source": [
    "# 1. Remove missing CustomerID\n",
    "df = df.dropna(subset=['Customer ID'])"
   ]
  },
  {
   "cell_type": "code",
   "execution_count": 49,
   "id": "47951541",
   "metadata": {},
   "outputs": [
    {
     "data": {
      "text/plain": [
       "Invoice        0\n",
       "StockCode      0\n",
       "Description    0\n",
       "Quantity       0\n",
       "InvoiceDate    0\n",
       "Price          0\n",
       "Customer ID    0\n",
       "Country        0\n",
       "dtype: int64"
      ]
     },
     "execution_count": 49,
     "metadata": {},
     "output_type": "execute_result"
    }
   ],
   "source": [
    "df.isnull().sum()"
   ]
  },
  {
   "cell_type": "code",
   "execution_count": 55,
   "id": "093340d2",
   "metadata": {},
   "outputs": [],
   "source": [
    "# 4. Create Revenue column\n",
    "df[\"Revenue\"] = df[\"Quantity\"] * df[\"Price\"]"
   ]
  },
  {
   "cell_type": "code",
   "execution_count": 56,
   "id": "13ec7de8",
   "metadata": {},
   "outputs": [],
   "source": [
    "# 5. Convert InvoiceDate to datetime\n",
    "df[\"InvoiceDate\"] = pd.to_datetime(df[\"InvoiceDate\"])\n"
   ]
  },
  {
   "cell_type": "code",
   "execution_count": 58,
   "id": "ef99ca41",
   "metadata": {},
   "outputs": [
    {
     "data": {
      "text/html": [
       "<div>\n",
       "<style scoped>\n",
       "    .dataframe tbody tr th:only-of-type {\n",
       "        vertical-align: middle;\n",
       "    }\n",
       "\n",
       "    .dataframe tbody tr th {\n",
       "        vertical-align: top;\n",
       "    }\n",
       "\n",
       "    .dataframe thead th {\n",
       "        text-align: right;\n",
       "    }\n",
       "</style>\n",
       "<table border=\"1\" class=\"dataframe\">\n",
       "  <thead>\n",
       "    <tr style=\"text-align: right;\">\n",
       "      <th></th>\n",
       "      <th>Invoice</th>\n",
       "      <th>StockCode</th>\n",
       "      <th>Description</th>\n",
       "      <th>Quantity</th>\n",
       "      <th>InvoiceDate</th>\n",
       "      <th>Price</th>\n",
       "      <th>Customer ID</th>\n",
       "      <th>Country</th>\n",
       "      <th>Revenue</th>\n",
       "    </tr>\n",
       "  </thead>\n",
       "  <tbody>\n",
       "    <tr>\n",
       "      <th>0</th>\n",
       "      <td>489434</td>\n",
       "      <td>85048</td>\n",
       "      <td>15CM CHRISTMAS GLASS BALL 20 LIGHTS</td>\n",
       "      <td>12</td>\n",
       "      <td>2009-12-01 07:45:00</td>\n",
       "      <td>6.95</td>\n",
       "      <td>13085.0</td>\n",
       "      <td>United Kingdom</td>\n",
       "      <td>83.4</td>\n",
       "    </tr>\n",
       "    <tr>\n",
       "      <th>1</th>\n",
       "      <td>489434</td>\n",
       "      <td>79323P</td>\n",
       "      <td>PINK CHERRY LIGHTS</td>\n",
       "      <td>12</td>\n",
       "      <td>2009-12-01 07:45:00</td>\n",
       "      <td>6.75</td>\n",
       "      <td>13085.0</td>\n",
       "      <td>United Kingdom</td>\n",
       "      <td>81.0</td>\n",
       "    </tr>\n",
       "    <tr>\n",
       "      <th>2</th>\n",
       "      <td>489434</td>\n",
       "      <td>79323W</td>\n",
       "      <td>WHITE CHERRY LIGHTS</td>\n",
       "      <td>12</td>\n",
       "      <td>2009-12-01 07:45:00</td>\n",
       "      <td>6.75</td>\n",
       "      <td>13085.0</td>\n",
       "      <td>United Kingdom</td>\n",
       "      <td>81.0</td>\n",
       "    </tr>\n",
       "    <tr>\n",
       "      <th>3</th>\n",
       "      <td>489434</td>\n",
       "      <td>22041</td>\n",
       "      <td>RECORD FRAME 7\" SINGLE SIZE</td>\n",
       "      <td>48</td>\n",
       "      <td>2009-12-01 07:45:00</td>\n",
       "      <td>2.10</td>\n",
       "      <td>13085.0</td>\n",
       "      <td>United Kingdom</td>\n",
       "      <td>100.8</td>\n",
       "    </tr>\n",
       "    <tr>\n",
       "      <th>4</th>\n",
       "      <td>489434</td>\n",
       "      <td>21232</td>\n",
       "      <td>STRAWBERRY CERAMIC TRINKET BOX</td>\n",
       "      <td>24</td>\n",
       "      <td>2009-12-01 07:45:00</td>\n",
       "      <td>1.25</td>\n",
       "      <td>13085.0</td>\n",
       "      <td>United Kingdom</td>\n",
       "      <td>30.0</td>\n",
       "    </tr>\n",
       "  </tbody>\n",
       "</table>\n",
       "</div>"
      ],
      "text/plain": [
       "  Invoice StockCode                          Description  Quantity  \\\n",
       "0  489434     85048  15CM CHRISTMAS GLASS BALL 20 LIGHTS        12   \n",
       "1  489434    79323P                   PINK CHERRY LIGHTS        12   \n",
       "2  489434    79323W                  WHITE CHERRY LIGHTS        12   \n",
       "3  489434     22041         RECORD FRAME 7\" SINGLE SIZE         48   \n",
       "4  489434     21232       STRAWBERRY CERAMIC TRINKET BOX        24   \n",
       "\n",
       "          InvoiceDate  Price  Customer ID         Country  Revenue  \n",
       "0 2009-12-01 07:45:00   6.95      13085.0  United Kingdom     83.4  \n",
       "1 2009-12-01 07:45:00   6.75      13085.0  United Kingdom     81.0  \n",
       "2 2009-12-01 07:45:00   6.75      13085.0  United Kingdom     81.0  \n",
       "3 2009-12-01 07:45:00   2.10      13085.0  United Kingdom    100.8  \n",
       "4 2009-12-01 07:45:00   1.25      13085.0  United Kingdom     30.0  "
      ]
     },
     "execution_count": 58,
     "metadata": {},
     "output_type": "execute_result"
    }
   ],
   "source": [
    "df.head()"
   ]
  },
  {
   "cell_type": "code",
   "execution_count": 61,
   "id": "bc53954c",
   "metadata": {},
   "outputs": [
    {
     "data": {
      "text/plain": [
       "Index(['Invoice', 'StockCode', 'Description', 'Quantity', 'InvoiceDate',\n",
       "       'Price', 'Customer ID', 'Country', 'Revenue'],\n",
       "      dtype='object')"
      ]
     },
     "execution_count": 61,
     "metadata": {},
     "output_type": "execute_result"
    }
   ],
   "source": [
    "df.columns"
   ]
  },
  {
   "cell_type": "code",
   "execution_count": 76,
   "id": "f96de489",
   "metadata": {},
   "outputs": [],
   "source": [
    "# 5. Convert InvoiceDate to datetime\n",
    "df[\"InvoiceDate\"] = pd.to_datetime(df[\"InvoiceDate\"])"
   ]
  },
  {
   "cell_type": "code",
   "execution_count": 65,
   "id": "94333be8",
   "metadata": {},
   "outputs": [
    {
     "data": {
      "text/plain": [
       "<bound method Series.count of 0         2021-12-01 07:45:00\n",
       "1         2021-12-01 07:45:00\n",
       "2         2021-12-01 07:45:00\n",
       "3         2021-12-01 07:45:00\n",
       "4         2021-12-01 07:45:00\n",
       "                  ...        \n",
       "1067366   2023-12-09 12:50:00\n",
       "1067367   2023-12-09 12:50:00\n",
       "1067368   2023-12-09 12:50:00\n",
       "1067369   2023-12-09 12:50:00\n",
       "1067370   2023-12-09 12:50:00\n",
       "Name: InvoiceDate, Length: 824364, dtype: datetime64[ns]>"
      ]
     },
     "execution_count": 65,
     "metadata": {},
     "output_type": "execute_result"
    }
   ],
   "source": [
    "df['InvoiceDate'].count"
   ]
  },
  {
   "cell_type": "code",
   "execution_count": 71,
   "id": "c7af62b9",
   "metadata": {},
   "outputs": [],
   "source": [
    "# -----------------------------\n",
    "# 1. Customer Acquisition Channel (synthetic)\n",
    "# -----------------------------\n",
    "channels = [\"Paid Search\", \"Social\", \"Organic\", \"Referral\", \"Email\"]\n",
    "probs = [0.25, 0.20, 0.30, 0.15, 0.10]  # probabilities\n",
    "\n",
    "# Create mapping: each CustomerID gets one acquisition channel\n",
    "unique_customers = df[\"Customer ID\"].unique()\n",
    "cust_channels = np.random.choice(channels, size=len(unique_customers), p=probs)\n",
    "channel_map = dict(zip(unique_customers, cust_channels))\n",
    "\n",
    "df[\"Channel\"] = df[\"Customer ID\"].map(channel_map)\n"
   ]
  },
  {
   "cell_type": "code",
   "execution_count": 72,
   "id": "30eae773",
   "metadata": {},
   "outputs": [],
   "source": [
    "# -----------------------------\n",
    "# 2. Customer Acquisition Cost (CAC) by Channel\n",
    "# -----------------------------\n",
    "cac_map = {\n",
    "    \"Paid Search\": 15,\n",
    "    \"Social\": 12,\n",
    "    \"Organic\": 5,\n",
    "    \"Referral\": 8,\n",
    "    \"Email\": 4\n",
    "}\n",
    "df[\"CAC\"] = df[\"Channel\"].map(cac_map)\n"
   ]
  },
  {
   "cell_type": "code",
   "execution_count": 73,
   "id": "bb900faf",
   "metadata": {},
   "outputs": [],
   "source": [
    "# -----------------------------\n",
    "# 3. Loyalty Flag (synthetic ~25%)\n",
    "# -----------------------------\n",
    "np.random.seed(42)  # reproducibility\n",
    "cust_loyalty = np.random.choice([0, 1], size=len(unique_customers), p=[0.75, 0.25])\n",
    "loyalty_map = dict(zip(unique_customers, cust_loyalty))\n",
    "df[\"Loyalty\"] = df[\"Customer ID\"].map(loyalty_map)\n"
   ]
  },
  {
   "cell_type": "code",
   "execution_count": 77,
   "id": "7ae2d7d8",
   "metadata": {},
   "outputs": [],
   "source": [
    "# -----------------------------\n",
    "# 4. Seasonality Index (month multipliers)\n",
    "# -----------------------------\n",
    "seasonality = {\n",
    "    1: 0.85,  # Jan dip\n",
    "    2: 0.90,\n",
    "    3: 0.95,\n",
    "    4: 1.00,\n",
    "    5: 1.05,\n",
    "    6: 1.00,\n",
    "    7: 0.95,\n",
    "    8: 0.98,\n",
    "    9: 1.05,\n",
    "    10: 1.10,\n",
    "    11: 1.25, # Nov uplift\n",
    "    12: 1.60  # Dec peak\n",
    "}\n",
    "\n",
    "df[\"Month\"] = df[\"InvoiceDate\"].dt.month\n",
    "df[\"SeasonalityIndex\"] = df[\"Month\"].map(seasonality)\n"
   ]
  },
  {
   "cell_type": "code",
   "execution_count": 78,
   "id": "1496c16c",
   "metadata": {},
   "outputs": [
    {
     "name": "stdout",
     "output_type": "stream",
     "text": [
      "✅ Enriched dataset saved as 'online_retail_enriched.csv'\n",
      "  Invoice StockCode                          Description  Quantity  \\\n",
      "0  489434     85048  15CM CHRISTMAS GLASS BALL 20 LIGHTS        12   \n",
      "1  489434    79323P                   PINK CHERRY LIGHTS        12   \n",
      "2  489434    79323W                  WHITE CHERRY LIGHTS        12   \n",
      "3  489434     22041         RECORD FRAME 7\" SINGLE SIZE         48   \n",
      "4  489434     21232       STRAWBERRY CERAMIC TRINKET BOX        24   \n",
      "\n",
      "          InvoiceDate  Price  Customer ID         Country  Revenue Channel  \\\n",
      "0 2021-12-01 07:45:00   6.95      13085.0  United Kingdom     83.4   Email   \n",
      "1 2021-12-01 07:45:00   6.75      13085.0  United Kingdom     81.0   Email   \n",
      "2 2021-12-01 07:45:00   6.75      13085.0  United Kingdom     81.0   Email   \n",
      "3 2021-12-01 07:45:00   2.10      13085.0  United Kingdom    100.8   Email   \n",
      "4 2021-12-01 07:45:00   1.25      13085.0  United Kingdom     30.0   Email   \n",
      "\n",
      "   CAC  Loyalty  Month  SeasonalityIndex  \n",
      "0    4        0     12               1.6  \n",
      "1    4        0     12               1.6  \n",
      "2    4        0     12               1.6  \n",
      "3    4        0     12               1.6  \n",
      "4    4        0     12               1.6  \n"
     ]
    }
   ],
   "source": [
    "df.to_csv(\"online_retail_enriched.csv\", index=False)\n",
    "\n",
    "print(\"✅ Enriched dataset saved as 'online_retail_enriched.csv'\")\n",
    "print(df.head())"
   ]
  },
  {
   "cell_type": "code",
   "execution_count": null,
   "id": "7146add2",
   "metadata": {},
   "outputs": [],
   "source": []
  }
 ],
 "metadata": {
  "kernelspec": {
   "display_name": "Python 3",
   "language": "python",
   "name": "python3"
  },
  "language_info": {
   "codemirror_mode": {
    "name": "ipython",
    "version": 3
   },
   "file_extension": ".py",
   "mimetype": "text/x-python",
   "name": "python",
   "nbconvert_exporter": "python",
   "pygments_lexer": "ipython3",
   "version": "3.13.3"
  }
 },
 "nbformat": 4,
 "nbformat_minor": 5
}
